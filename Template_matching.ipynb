{
 "cells": [
  {
   "cell_type": "markdown",
   "metadata": {},
   "source": [
    "# ZNCC"
   ]
  },
  {
   "cell_type": "code",
   "execution_count": null,
   "metadata": {},
   "outputs": [],
   "source": [
    "def getAverage(img, u, v, n):\n",
    "    \"\"\"img as a square matrix of numbers\"\"\"\n",
    "    s = 0\n",
    "    for i in range(-n, n + 1):\n",
    "        for j in range(-n, n + 1):\n",
    "            s += img[u + i][v + j]\n",
    "    return float(s) / (2 * n + 1) ** 2  \n",
    "\n",
    "\n",
    "def getStandardDeviation(img, u, v, n):\n",
    "    s = 0\n",
    "    avg = getAverage(img, u, v, n)\n",
    "    for i in range(-n, n + 1):\n",
    "        for j in range(-n, n + 1):\n",
    "            s += (img[u + i][v + j] - avg) ** 2\n",
    "    return (s ** 0.5) / (2 * n + 1)\n",
    "\n",
    "\n",
    "def zncc(img1, img2, u1, v1, u2, v2, n):\n",
    "    stdDeviation1 = getStandardDeviation(img1, u1, v1, n)\n",
    "    stdDeviation2 = getStandardDeviation(img2, u2, v2, n)\n",
    "    avg1 = getAverage(img1, u1, v1, n)\n",
    "    avg2 = getAverage(img2, u2, v2, n)\n",
    "\n",
    "    s = 0\n",
    "    for i in range(-n, n + 1):\n",
    "        for j in range(-n, n + 1):\n",
    "            s += (img1[u1 + i][v1 + j] - avg1) * (img2[u2 + i][v2 + j] - avg2)\n",
    "    return float(s) / ((2 * n + 1) ** 2 * stdDeviation1 * stdDeviation2)\n"
   ]
  }
 ],
 "metadata": {
  "kernelspec": {
   "display_name": "Python 3",
   "language": "python",
   "name": "python3"
  },
  "language_info": {
   "codemirror_mode": {
    "name": "ipython",
    "version": 3
   },
   "file_extension": ".py",
   "mimetype": "text/x-python",
   "name": "python",
   "nbconvert_exporter": "python",
   "pygments_lexer": "ipython3",
   "version": "3.7.3"
  }
 },
 "nbformat": 4,
 "nbformat_minor": 2
}
